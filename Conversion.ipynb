{
 "cells": [
  {
   "cell_type": "code",
   "execution_count": 1,
   "metadata": {
    "collapsed": true
   },
   "outputs": [],
   "source": [
    "#Conversion of all audio files from .au to .wav\n",
    "\n",
    "from pydub import AudioSegment\n",
    "import os\n",
    "\n",
    "for filename in os.listdir(\"/home/urvi2/Downloads/genres/blues\"):\n",
    "    if filename.endswith(\".au\"):\n",
    "        a = os.path.join(\"/home/urvi2/Downloads/genres/blues\",filename)\n",
    "        #print(a)\n",
    "        sound = AudioSegment.from_file(a, 'au')\n",
    "        b = a.strip(\".au\")\n",
    "        sound.export(b + \".wav\", format=\"wav\")"
   ]
  },
  {
   "cell_type": "code",
   "execution_count": 2,
   "metadata": {
    "collapsed": true
   },
   "outputs": [],
   "source": [
    "#Copying the converted files to a new folder \n",
    "import os\n",
    "import shutil\n",
    "dir_src = (\"/home/urvi2/Downloads/genres/blues/\")\n",
    "dir_dst = (\"/home/urvi2/genres/blues/\")\n",
    "\n",
    "for filename in os.listdir(dir_src):\n",
    "    if filename.endswith('.wav'):\n",
    "        shutil.copy( dir_src + filename, dir_dst)\n",
    "    #print(filename)"
   ]
  },
  {
   "cell_type": "code",
   "execution_count": 3,
   "metadata": {
    "collapsed": true
   },
   "outputs": [],
   "source": [
    "from pydub import AudioSegment\n",
    "import os\n",
    "#directory = os.fsencode()\n",
    "for filename in os.listdir(\"/home/urvi2/Downloads/genres/classical\"):\n",
    "    if filename.endswith(\".au\"):\n",
    "        a = os.path.join(\"/home/urvi2/Downloads/genres/classical\",filename)\n",
    "        #print(a)\n",
    "        sound = AudioSegment.from_file(a, 'au')\n",
    "        b = a.strip(\".au\")\n",
    "        sound.export(b + \".wav\", format=\"wav\")"
   ]
  },
  {
   "cell_type": "code",
   "execution_count": 4,
   "metadata": {
    "collapsed": true
   },
   "outputs": [],
   "source": [
    "import os\n",
    "import shutil\n",
    "dir_src = (\"/home/urvi2/Downloads/genres/classical/\")\n",
    "dir_dst = (\"/home/urvi2/genres/classical/\")\n",
    "\n",
    "for filename in os.listdir(dir_src):\n",
    "    if filename.endswith('.wav'):\n",
    "        shutil.copy( dir_src + filename, dir_dst)\n",
    "    #print(filename)"
   ]
  },
  {
   "cell_type": "code",
   "execution_count": 20,
   "metadata": {
    "collapsed": true
   },
   "outputs": [],
   "source": [
    "from pydub import AudioSegment\n",
    "import os\n",
    "#directory = os.fsencode()\n",
    "for filename in os.listdir(\"/home/urvi2/Downloads/genres/rock\"):\n",
    "    if filename.endswith(\".au\"):\n",
    "        a = os.path.join(\"/home/urvi2/Downloads/genres/rock\",filename)\n",
    "        #print(a)\n",
    "        sound = AudioSegment.from_file(a, 'au')\n",
    "        b = a.strip(\".au\")\n",
    "        sound.export(b + \".wav\", format=\"wav\")"
   ]
  },
  {
   "cell_type": "code",
   "execution_count": 21,
   "metadata": {
    "collapsed": true
   },
   "outputs": [],
   "source": [
    "import os\n",
    "import shutil\n",
    "dir_src = (\"/home/urvi2/Downloads/genres/rock/\")\n",
    "dir_dst = (\"/home/urvi2/genres/rock/\")\n",
    "\n",
    "for filename in os.listdir(dir_src):\n",
    "    if filename.endswith('.wav'):\n",
    "        shutil.copy( dir_src + filename, dir_dst)\n",
    "    #print(filename)"
   ]
  },
  {
   "cell_type": "code",
   "execution_count": null,
   "metadata": {
    "collapsed": true
   },
   "outputs": [],
   "source": []
  }
 ],
 "metadata": {
  "kernelspec": {
   "display_name": "Python 3",
   "language": "python",
   "name": "python3"
  },
  "language_info": {
   "codemirror_mode": {
    "name": "ipython",
    "version": 3
   },
   "file_extension": ".py",
   "mimetype": "text/x-python",
   "name": "python",
   "nbconvert_exporter": "python",
   "pygments_lexer": "ipython3",
   "version": "3.6.3"
  }
 },
 "nbformat": 4,
 "nbformat_minor": 2
}
