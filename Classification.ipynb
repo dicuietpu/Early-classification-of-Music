{
 "cells": [
  {
   "cell_type": "code",
   "execution_count": null,
   "metadata": {
    "collapsed": true
   },
   "outputs": [],
   "source": [
    "import csv\n",
    "import librosa\n",
    "import os\n",
    "from pydub import AudioSegment\n",
    "import numpy as np\n",
    "import sklearn\n",
    "# Packages for analysis\n",
    "import pandas as pd\n",
    "import numpy as np\n",
    "from sklearn import svm\n",
    "\n",
    "# Packages for visuals\n",
    "import matplotlib.pyplot as plt\n",
    "# Allows charts to appear in the notebook\n",
    "%matplotlib inline\n",
    "\n"
   ]
  },
  {
   "cell_type": "code",
   "execution_count": null,
   "metadata": {
    "collapsed": true
   },
   "outputs": [],
   "source": [
    "import numpy as np\n",
    "import sklearn\n",
    "from sklearn.svm import SVC\n",
    "from sklearn.model_selection import train_test_split\n",
    "from sklearn.model_selection import GridSearchCV\n",
    "from sklearn.metrics import classification_report\n",
    "import pandas as pd\n",
    "\n",
    "mfccs = pd.read_csv('/home/urvi2/Documents/my8192k.csv')\n",
    "\n",
    "#X = mfccs[['mfcc1', 'mfcc2', 'mfcc3', 'mfcc4', 'mfcc5', 'mfcc6', 'mfcc7', 'mfcc8', 'mfcc9', 'mfcc10','mfcc11', 'mfcc12', 'mfcc13', 'mfcc14', 'mfcc15', 'mfcc16', 'mfcc17', 'mfcc18', 'mfcc19', 'mfcc20','chroma1','chroma2', 'chroma3', 'chroma4', 'chroma5', 'chroma6','chrome1','chrome2', 'chrome3', 'chrome4', 'chrome5', 'chrome6', 'mel', 'poly']].as_matrix()\n",
    "#X = mfccs[['mfcc1', 'mfcc2', 'mfcc3', 'mfcc4', 'mfcc5', 'mfcc6', 'mfcc7', 'mfcc8', 'mfcc9', 'mfcc10','mfcc11', 'mfcc12','mfcc13', 'mfcc14', 'mfcc15', 'mfcc16', 'mfcc17', 'mfcc18', 'mfcc19', 'mfcc20', 'chroma1','chroma2', 'chroma3', 'chroma4', 'chroma5', 'chroma6','chrome1','chrome2', 'chrome3', 'chrome4', 'chrome5', 'chrome6','chromc1','chromc2', 'chromc3', 'chromc4', 'chromc5', 'chromc6','mel','poly']].as_matrix()\n",
    "#X = mfccs[['mfcc1', 'mfcc2', 'mfcc3', 'mfcc4', 'mfcc5', 'mfcc6', 'mfcc7', 'mfcc8','mfcc9', 'mfcc10', 'mfcc11', 'mfcc12', 'mfcc13', 'mfcc14', 'mfcc15', 'mfcc16', 'mfcc17', 'mfcc18', 'mfcc19', 'mfcc20','mfcc21', 'mfcc22', 'mfcc23', 'mfcc24', 'mfcc25', 'mfcc26', 'mfcc27', 'mfcc28', 'mfcc29', 'mfcc30', 'mfcc31', 'mfcc32','mfcc33', 'mfcc34', 'mfcc35', 'mfcc36','mfcc37', 'mfcc38', 'mfcc39', 'mfcc40','chroma1', 'chroma2', 'chroma3', 'chroma4', 'chroma5', 'chroma6', 'chroma7', 'chroma8', 'chroma9', 'chroma10', 'chroma11', 'chroma12', 'chromc1', 'chromc2', 'chromc3', 'chromc4', 'chromc5', 'chromc6', 'chromc7', 'chromc8', 'chromc9', 'chromc10', 'chromc11', 'chromc12', 'chrome1', 'mel', 'poly']].as_matrix()\n",
    "X = mfccs[['mfcc1', 'mfcc2', 'mfcc3', 'mfcc4', 'mfcc5', 'mfcc6', 'mfcc7', 'mfcc8','mfcc9', 'mfcc10', 'mfcc11', 'mfcc12', 'mfcc13', 'mfcc14', 'mfcc15', 'mfcc16', 'mfcc17', 'mfcc18', 'mfcc19', 'mfcc20','mfcc21', 'mfcc22', 'mfcc23', 'mfcc24', 'mfcc25', 'mfcc26', 'mfcc27', 'mfcc28', 'mfcc29', 'mfcc30', 'mfcc31', 'mfcc32','mfcc33', 'mfcc34', 'mfcc35', 'mfcc36','mfcc37', 'mfcc38', 'mfcc39', 'mfcc40', 'mel','poly']].as_matrix()\n",
    "\n",
    "\n",
    "y = mfccs['genre']\n",
    "\n",
    "# Split data into training and test subsets\n",
    "X_train, X_test, y_train, y_test = train_test_split(X, y, test_size=0.30, random_state=3)\n",
    "#print(X_train.shape\n",
    "#print(X_test.shape)\n",
    "#print(y_train.shape)\n",
    "#print(y_test.shape)\n",
    "#X_valid, X_test, y_valid, y_test = train_test_split(X_test, y_test, test_size=0.5, random_state=3)"
   ]
  },
  {
   "cell_type": "code",
   "execution_count": null,
   "metadata": {
    "collapsed": true
   },
   "outputs": [],
   "source": [
    "# Simple SVM\n",
    "print('fitting...')\n",
    "clf = SVC(kernel = 'linear', random_state=3)\n",
    "clf.fit(X_train, y_train)\n"
   ]
  },
  {
   "cell_type": "code",
   "execution_count": null,
   "metadata": {
    "collapsed": true
   },
   "outputs": [],
   "source": [
    "res = clf.predict(X_test)\n",
    "#r = res.tolist()\n",
    "\n",
    "accuracy=np.mean(res==y_test)\n",
    "print(accuracy)\n",
    "#print(r)\n",
    "#acc = clf.score(X_valid, y_valid)\n",
    "#print(\"acc=%0.3f\" % acc)"
   ]
  }
 ],
 "metadata": {
  "kernelspec": {
   "display_name": "Python 3",
   "language": "python",
   "name": "python3"
  },
  "language_info": {
   "codemirror_mode": {
    "name": "ipython",
    "version": 3
   },
   "file_extension": ".py",
   "mimetype": "text/x-python",
   "name": "python",
   "nbconvert_exporter": "python",
   "pygments_lexer": "ipython3",
   "version": "3.6.3"
  }
 },
 "nbformat": 4,
 "nbformat_minor": 2
}
